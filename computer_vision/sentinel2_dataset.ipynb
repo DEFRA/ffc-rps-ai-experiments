{
 "cells": [
  {
   "cell_type": "markdown",
   "metadata": {},
   "source": [
    "#requirements\n",
    "earthengine-api\n",
    "geemap\n",
    "\n",
    "token: 4/1AQlEd8w_NhJ7mk47qLkoAjWcWgJWyyI-I_eFvnRNVmr5cmrs-ghCWkrvUMY (only lasts a week)"
   ]
  },
  {
   "cell_type": "code",
   "execution_count": 4,
   "metadata": {},
   "outputs": [
    {
     "data": {
      "text/html": [
       "<p>To authorize access needed by Earth Engine, open the following\n",
       "        URL in a web browser and follow the instructions:</p>\n",
       "        <p><a href=https://code.earthengine.google.com/client-auth?scopes=https%3A//www.googleapis.com/auth/earthengine%20https%3A//www.googleapis.com/auth/cloud-platform%20https%3A//www.googleapis.com/auth/devstorage.full_control&request_id=aE8CsGViifuvYLPYXSG8JscLyzEz4aLVQZZ4g7SK9Fg&tc=OpzytOwaPAW-EDPoRA7QpwggQ3FF50s5JuVjKlhzLPI&cc=486yjuS2-WiO9BPXtPXUcxdnFdY7oYREOtcnQkd7dfQ>https://code.earthengine.google.com/client-auth?scopes=https%3A//www.googleapis.com/auth/earthengine%20https%3A//www.googleapis.com/auth/cloud-platform%20https%3A//www.googleapis.com/auth/devstorage.full_control&request_id=aE8CsGViifuvYLPYXSG8JscLyzEz4aLVQZZ4g7SK9Fg&tc=OpzytOwaPAW-EDPoRA7QpwggQ3FF50s5JuVjKlhzLPI&cc=486yjuS2-WiO9BPXtPXUcxdnFdY7oYREOtcnQkd7dfQ</a></p>\n",
       "        <p>The authorization workflow will generate a code, which you should paste in the box below.</p>\n",
       "        "
      ],
      "text/plain": [
       "<IPython.core.display.HTML object>"
      ]
     },
     "metadata": {},
     "output_type": "display_data"
    },
    {
     "name": "stdout",
     "output_type": "stream",
     "text": [
      "\n",
      "Successfully saved authorization token.\n"
     ]
    }
   ],
   "source": [
    "import ee\n",
    "# Authenticate the Earth Engine API\n",
    "ee.Authenticate()\n",
    "\n",
    "# Initialize the Earth Engine API\n",
    "ee.Initialize()\n"
   ]
  },
  {
   "cell_type": "code",
   "execution_count": 6,
   "metadata": {},
   "outputs": [
    {
     "data": {
      "application/vnd.jupyter.widget-view+json": {
       "model_id": "f6f887c1b19e4ecca86650cb968cd898",
       "version_major": 2,
       "version_minor": 0
      },
      "text/plain": [
       "Map(center=[17.7009, 83.277], controls=(WidgetControl(options=['position', 'transparent_bg'], widget=SearchDat…"
      ]
     },
     "execution_count": 6,
     "metadata": {},
     "output_type": "execute_result"
    }
   ],
   "source": [
    "import geemap\n",
    "\n",
    "def mask_s2_clouds(image):\n",
    "  \"\"\"Masks clouds in a Sentinel-2 image using the QA band.\n",
    "\n",
    "  Args:\n",
    "      image (ee.Image): A Sentinel-2 image.\n",
    "\n",
    "  Returns:\n",
    "      ee.Image: A cloud-masked Sentinel-2 image.\n",
    "  \"\"\"\n",
    "  qa = image.select('QA60')\n",
    "\n",
    "  # Bits 10 and 11 are clouds and cirrus, respectively.\n",
    "  cloud_bit_mask = 1 << 10\n",
    "  cirrus_bit_mask = 1 << 11\n",
    "\n",
    "  # Both flags should be set to zero, indicating clear conditions.\n",
    "  mask = (\n",
    "      qa.bitwiseAnd(cloud_bit_mask)\n",
    "      .eq(0)\n",
    "      .And(qa.bitwiseAnd(cirrus_bit_mask).eq(0))\n",
    "  )\n",
    "\n",
    "  return image.updateMask(mask).divide(10000)\n",
    "\n",
    "\n",
    "dataset = (\n",
    "    ee.ImageCollection('COPERNICUS/S2_SR_HARMONIZED')\n",
    "    .filterDate('2020-01-01', '2020-01-30')\n",
    "    # Pre-filter to get less cloudy granules.\n",
    "    .filter(ee.Filter.lt('CLOUDY_PIXEL_PERCENTAGE', 20))\n",
    "    .map(mask_s2_clouds)\n",
    ")\n",
    "\n",
    "visualization = {\n",
    "    'min': 0.0,\n",
    "    'max': 0.3,\n",
    "    'bands': ['B4', 'B3', 'B2'],\n",
    "}\n",
    "\n",
    "m = geemap.Map()\n",
    "m.set_center(83.277, 17.7009, 12)\n",
    "m.add_layer(dataset.mean(), visualization, 'RGB')\n",
    "m"
   ]
  },
  {
   "cell_type": "code",
   "execution_count": 8,
   "metadata": {},
   "outputs": [
    {
     "data": {
      "text/html": [
       "\n",
       "            <style>\n",
       "                .geemap-dark {\n",
       "                    --jp-widgets-color: white;\n",
       "                    --jp-widgets-label-color: white;\n",
       "                    --jp-ui-font-color1: white;\n",
       "                    --jp-layout-color2: #454545;\n",
       "                    background-color: #383838;\n",
       "                }\n",
       "\n",
       "                .geemap-dark .jupyter-button {\n",
       "                    --jp-layout-color3: #383838;\n",
       "                }\n",
       "\n",
       "                .geemap-colab {\n",
       "                    background-color: var(--colab-primary-surface-color, white);\n",
       "                }\n",
       "\n",
       "                .geemap-colab .jupyter-button {\n",
       "                    --jp-layout-color3: var(--colab-primary-surface-color, white);\n",
       "                }\n",
       "            </style>\n",
       "            "
      ],
      "text/plain": [
       "<IPython.core.display.HTML object>"
      ]
     },
     "metadata": {},
     "output_type": "display_data"
    },
    {
     "data": {
      "application/vnd.jupyter.widget-view+json": {
       "model_id": "b6baa3e1cf324de6b7c3eec375a5ad7e",
       "version_major": 2,
       "version_minor": 0
      },
      "text/plain": [
       "Map(center=[52.3555, -1.1743], controls=(WidgetControl(options=['position', 'transparent_bg'], widget=SearchDa…"
      ]
     },
     "execution_count": 8,
     "metadata": {},
     "output_type": "execute_result"
    }
   ],
   "source": [
    "# Define the region of interest (ROI) - Bounding box for England\n",
    "roi = ee.Geometry.Rectangle([-7.572168, 49.959999, 1.681530, 58.635000])\n",
    "\n",
    "# Load the Sentinel-2 SR Harmonized Image Collection\n",
    "collection = ee.ImageCollection(\"COPERNICUS/S2_SR_HARMONIZED\") \\\n",
    "    .filterDate('2023-01-01', '2023-12-31') \\\n",
    "    .filterBounds(roi) \\\n",
    "    .filter(ee.Filter.lt('CLOUDY_PIXEL_PERCENTAGE', 10))  # Filter by cloud cover\n",
    "\n",
    "# Select the bands you are interested in (e.g., RGB)\n",
    "bands = ['B4', 'B3', 'B2']\n",
    "\n",
    "# Get the median image (or use another method to combine images)\n",
    "median_image = collection.median().select(bands)\n",
    "\n",
    "# Visualization parameters optimized for high resolution\n",
    "vis_params = {\n",
    "    'min': 0,\n",
    "    'max': 3000,\n",
    "    'bands': bands,\n",
    "    'gamma': 1.4  # Adjust gamma to improve contrast\n",
    "}\n",
    "\n",
    "# Initialize the geemap map, centered on England, with an appropriate zoom level\n",
    "Map = geemap.Map(center=[52.3555, -1.1743], zoom=8)  # Adjusted zoom level to be closer to the native resolution\n",
    "\n",
    "# Add the median image to the map\n",
    "Map.addLayer(median_image, vis_params, \"Sentinel-2 Max Resolution\")\n",
    "\n",
    "# Display the map with layer control\n",
    "Map.addLayerControl()\n",
    "Map\n"
   ]
  },
  {
   "cell_type": "code",
   "execution_count": null,
   "metadata": {},
   "outputs": [],
   "source": []
  }
 ],
 "metadata": {
  "kernelspec": {
   "display_name": ".venv",
   "language": "python",
   "name": "python3"
  },
  "language_info": {
   "codemirror_mode": {
    "name": "ipython",
    "version": 3
   },
   "file_extension": ".py",
   "mimetype": "text/x-python",
   "name": "python",
   "nbconvert_exporter": "python",
   "pygments_lexer": "ipython3",
   "version": "3.11.5"
  }
 },
 "nbformat": 4,
 "nbformat_minor": 2
}
