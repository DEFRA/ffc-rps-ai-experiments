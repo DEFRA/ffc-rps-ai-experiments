{
 "cells": [
  {
   "cell_type": "code",
   "execution_count": 27,
   "metadata": {},
   "outputs": [
    {
     "name": "stdout",
     "output_type": "stream",
     "text": [
      "<fiona.model.Feature object at 0x12d969810>\n"
     ]
    }
   ],
   "source": [
    "import shapely\n",
    "import json\n",
    "import fiona\n",
    "\n",
    "# with open('golfclub.geojson', 'r') as f:\n",
    "#     golf_club_geo = json.load(f)\n",
    "\n",
    "with fiona.open('golfclub.geojson', 'r') as f:\n",
    "    for feature in f:\n",
    "        print(feature)\n",
    "\n",
    "    # golf_club_geo = shapely.from_geojson(geo)\n",
    "    # golf_club_geo = json.loads(geo)\n",
    "\n",
    "\n",
    "\n",
    "# golf_club_geo\n",
    "\n",
    "# golf_club_geo = shapely.from_geojson(golf_club_geo)"
   ]
  },
  {
   "cell_type": "code",
   "execution_count": 37,
   "metadata": {},
   "outputs": [
    {
     "ename": "GEOSException",
     "evalue": "ParseException: Error parsing JSON: '[json.exception.parse_error.101] parse error at line 1, column 1: syntax error while parsing value - invalid literal; last read: 'c''",
     "output_type": "error",
     "traceback": [
      "\u001b[0;31m---------------------------------------------------------------------------\u001b[0m",
      "\u001b[0;31mGEOSException\u001b[0m                             Traceback (most recent call last)",
      "Cell \u001b[0;32mIn[37], line 19\u001b[0m\n\u001b[1;32m     17\u001b[0m \u001b[38;5;66;03m# Example usage\u001b[39;00m\n\u001b[1;32m     18\u001b[0m geojson_file \u001b[38;5;241m=\u001b[39m \u001b[38;5;124m'\u001b[39m\u001b[38;5;124mgolfclub.geojson\u001b[39m\u001b[38;5;124m'\u001b[39m\n\u001b[0;32m---> 19\u001b[0m features \u001b[38;5;241m=\u001b[39m \u001b[43mimport_geojson\u001b[49m\u001b[43m(\u001b[49m\u001b[43mgeojson_file\u001b[49m\u001b[43m)\u001b[49m\n\u001b[1;32m     21\u001b[0m \u001b[38;5;66;03m# Print the imported features\u001b[39;00m\n\u001b[1;32m     22\u001b[0m \u001b[38;5;28;01mfor\u001b[39;00m i, feature \u001b[38;5;129;01min\u001b[39;00m \u001b[38;5;28menumerate\u001b[39m(features):\n",
      "Cell \u001b[0;32mIn[37], line 9\u001b[0m, in \u001b[0;36mimport_geojson\u001b[0;34m(geojson_file)\u001b[0m\n\u001b[1;32m      6\u001b[0m \u001b[38;5;28;01mwith\u001b[39;00m fiona\u001b[38;5;241m.\u001b[39mopen(geojson_file, \u001b[38;5;124m'\u001b[39m\u001b[38;5;124mr\u001b[39m\u001b[38;5;124m'\u001b[39m) \u001b[38;5;28;01mas\u001b[39;00m src:\n\u001b[1;32m      7\u001b[0m     \u001b[38;5;28;01mfor\u001b[39;00m feature \u001b[38;5;129;01min\u001b[39;00m src:\n\u001b[1;32m      8\u001b[0m         \u001b[38;5;66;03m# geom = shape(feature['geometry'])\u001b[39;00m\n\u001b[0;32m----> 9\u001b[0m         geom \u001b[38;5;241m=\u001b[39m \u001b[43mshapely\u001b[49m\u001b[38;5;241;43m.\u001b[39;49m\u001b[43mfrom_geojson\u001b[49m\u001b[43m(\u001b[49m\u001b[43mfeature\u001b[49m\u001b[43m[\u001b[49m\u001b[38;5;124;43m'\u001b[39;49m\u001b[38;5;124;43mgeometry\u001b[39;49m\u001b[38;5;124;43m'\u001b[39;49m\u001b[43m]\u001b[49m\u001b[43m)\u001b[49m\n\u001b[1;32m     10\u001b[0m         properties \u001b[38;5;241m=\u001b[39m feature[\u001b[38;5;124m'\u001b[39m\u001b[38;5;124mproperties\u001b[39m\u001b[38;5;124m'\u001b[39m]\n\u001b[1;32m     11\u001b[0m         features\u001b[38;5;241m.\u001b[39mappend({\n\u001b[1;32m     12\u001b[0m             \u001b[38;5;124m'\u001b[39m\u001b[38;5;124mgeometry\u001b[39m\u001b[38;5;124m'\u001b[39m: geom,\n\u001b[1;32m     13\u001b[0m             \u001b[38;5;124m'\u001b[39m\u001b[38;5;124mproperties\u001b[39m\u001b[38;5;124m'\u001b[39m: properties\n\u001b[1;32m     14\u001b[0m         })\n",
      "File \u001b[0;32m~/Documents/GitHub/defra_geojson/.venv/lib/python3.11/site-packages/shapely/io.py:372\u001b[0m, in \u001b[0;36mfrom_geojson\u001b[0;34m(geometry, on_invalid, **kwargs)\u001b[0m\n\u001b[1;32m    367\u001b[0m \u001b[38;5;66;03m# ensure the input has object dtype, to avoid numpy inferring it as a\u001b[39;00m\n\u001b[1;32m    368\u001b[0m \u001b[38;5;66;03m# fixed-length string dtype (which removes trailing null bytes upon access\u001b[39;00m\n\u001b[1;32m    369\u001b[0m \u001b[38;5;66;03m# of array elements)\u001b[39;00m\n\u001b[1;32m    370\u001b[0m geometry \u001b[38;5;241m=\u001b[39m np\u001b[38;5;241m.\u001b[39masarray(geometry, dtype\u001b[38;5;241m=\u001b[39m\u001b[38;5;28mobject\u001b[39m)\n\u001b[0;32m--> 372\u001b[0m \u001b[38;5;28;01mreturn\u001b[39;00m \u001b[43mlib\u001b[49m\u001b[38;5;241;43m.\u001b[39;49m\u001b[43mfrom_geojson\u001b[49m\u001b[43m(\u001b[49m\u001b[43mgeometry\u001b[49m\u001b[43m,\u001b[49m\u001b[43m \u001b[49m\u001b[43minvalid_handler\u001b[49m\u001b[43m,\u001b[49m\u001b[43m \u001b[49m\u001b[38;5;241;43m*\u001b[39;49m\u001b[38;5;241;43m*\u001b[39;49m\u001b[43mkwargs\u001b[49m\u001b[43m)\u001b[49m\n",
      "\u001b[0;31mGEOSException\u001b[0m: ParseException: Error parsing JSON: '[json.exception.parse_error.101] parse error at line 1, column 1: syntax error while parsing value - invalid literal; last read: 'c''"
     ]
    }
   ],
   "source": [
    "import fiona\n",
    "from shapely.geometry import shape\n",
    "\n",
    "def import_geojson(geojson_file):\n",
    "    features = []\n",
    "    with fiona.open(geojson_file, 'r') as src:\n",
    "        for feature in src:\n",
    "            # geom = shape(feature['geometry'])\n",
    "            geom = shapely.from_geojson(feature['geometry'])\n",
    "            properties = feature['properties']\n",
    "            features.append({\n",
    "                'geometry': geom,\n",
    "                'properties': properties\n",
    "            })\n",
    "    return features\n",
    "\n",
    "# Example usage\n",
    "geojson_file = 'golfclub.geojson'\n",
    "features = import_geojson(geojson_file)\n",
    "\n",
    "# Print the imported features\n",
    "for i, feature in enumerate(features):\n",
    "    print(f\"Feature {i+1}:\")\n",
    "    print(f\"  Geometry: {feature['geometry']}\")\n",
    "    print(f\"  Properties: {feature['properties']}\")\n"
   ]
  },
  {
   "cell_type": "code",
   "execution_count": 32,
   "metadata": {},
   "outputs": [
    {
     "data": {
      "image/svg+xml": [
       "<svg xmlns=\"http://www.w3.org/2000/svg\" xmlns:xlink=\"http://www.w3.org/1999/xlink\" width=\"100.0\" height=\"100.0\" viewBox=\"-2.4753071900291674 53.785037793602456 0.015730005091166177 0.008074124508880232\" preserveAspectRatio=\"xMinYMin meet\"><g transform=\"matrix(1,0,0,-1,0,107.57814971171379)\"><path fill-rule=\"evenodd\" fill=\"#66cc99\" stroke=\"#555555\" stroke-width=\"0.00031460010182332354\" opacity=\"0.6\" d=\"M -2.473365214092297,53.78926620444841 L -2.474595132186124,53.78931719266453 L -2.474724597248013,53.78875631888093 L -2.4734515241343615,53.78866708826962 L -2.473602566706944,53.78811895320666 L -2.4742930470401348,53.788195437599 L -2.474551977164708,53.787392344525955 L -2.4738183418108406,53.78734135397082 L -2.4739046518528767,53.787086400263945 L -2.473019973925659,53.78703540933694 L -2.4730631289463076,53.78661473182231 L -2.4703227851241536,53.78611756204893 L -2.4680139915098778,53.78597733361164 L -2.46624463565621,53.78562038638361 L -2.465597310343611,53.786576488202655 L -2.463914264531212,53.78624504203955 L -2.464108462125239,53.7859645855485 L -2.4635690243646025,53.7857606160139 L -2.4601597777191557,53.786844192807536 L -2.461799668510963,53.78992904642146 L -2.463029586604762,53.78963586760955 L -2.4635042918332317,53.789878058949 L -2.46430265971847,53.79107624816254 L -2.464108462125239,53.79136941690746 L -2.464367392249784,53.792274403152305 L -2.4647126324163935,53.79217243384724 L -2.4649499850310406,53.79228714929772 L -2.465381535239686,53.792159687666526 L -2.4656836203848513,53.79252932533018 L -2.4658562404681845,53.792465594930974 L -2.4655541553230194,53.7921341952939 L -2.4666330308434397,53.79182828561264 L -2.46982650238499,53.79133117762203 L -2.4697186148322032,53.790923289742864 L -2.4710995754986413,53.79069385106797 L -2.4714663931759446,53.790579131259676 L -2.4727394662904203,53.79037518415953 L -2.473235749029584,53.789967286984535 L -2.473365214092297,53.78926620444841 z\" /></g></svg>"
      ],
      "text/plain": [
       "<POLYGON ((-2.473 53.789, -2.475 53.789, -2.475 53.789, -2.473 53.789, -2.47...>"
      ]
     },
     "execution_count": 32,
     "metadata": {},
     "output_type": "execute_result"
    }
   ],
   "source": [
    "feature['geometry']"
   ]
  },
  {
   "cell_type": "code",
   "execution_count": 36,
   "metadata": {},
   "outputs": [
    {
     "data": {
      "text/plain": [
       "6.121824017103463e-05"
      ]
     },
     "execution_count": 36,
     "metadata": {},
     "output_type": "execute_result"
    }
   ],
   "source": [
    "feature['geometry'].area"
   ]
  },
  {
   "cell_type": "code",
   "execution_count": 65,
   "metadata": {},
   "outputs": [],
   "source": [
    "from shapely.geometry import shape\n",
    "from shapely.geometry.polygon import Polygon\n",
    "\n",
    "geo: dict = {'type': 'Polygon',\n",
    "   'coordinates': [[[23.08437310100004, 53.15448536100007],\n",
    "   [23.08459767900007, 53.15448536100007],\n",
    "   [23.08594514600003, 53.153587050000056],\n",
    "   [23.08437310100004, 53.15448536100007]]]}\n",
    "\n",
    "\n",
    "polygon: Polygon = shape(geo)"
   ]
  },
  {
   "cell_type": "code",
   "execution_count": 39,
   "metadata": {},
   "outputs": [
    {
     "data": {
      "image/svg+xml": [
       "<svg xmlns=\"http://www.w3.org/2000/svg\" xmlns:xlink=\"http://www.w3.org/1999/xlink\" width=\"100.0\" height=\"100.0\" viewBox=\"23.08431021920004 53.15352416820006 0.001697808599985251 0.0010240746000107492\" preserveAspectRatio=\"xMinYMin meet\"><g transform=\"matrix(1,0,0,-1,0,106.30807241100013)\"><path fill-rule=\"evenodd\" fill=\"#66cc99\" stroke=\"#555555\" stroke-width=\"3.395617199970502e-05\" opacity=\"0.6\" d=\"M 23.08437310100004,53.15448536100007 L 23.08459767900007,53.15448536100007 L 23.08594514600003,53.153587050000056 L 23.08437310100004,53.15448536100007 z\" /></g></svg>"
      ],
      "text/plain": [
       "<POLYGON ((23.084 53.154, 23.085 53.154, 23.086 53.154, 23.084 53.154))>"
      ]
     },
     "execution_count": 39,
     "metadata": {},
     "output_type": "execute_result"
    }
   ],
   "source": [
    "polygon"
   ]
  },
  {
   "cell_type": "code",
   "execution_count": 57,
   "metadata": {},
   "outputs": [
    {
     "data": {
      "text/plain": [
       "{'coordinates': [[[-2.473365214092297, 53.78926620444841],\n",
       "   [-2.474595132186124, 53.78931719266453],\n",
       "   [-2.474724597248013, 53.78875631888093],\n",
       "   [-2.4734515241343615, 53.78866708826962],\n",
       "   [-2.473602566706944, 53.78811895320666],\n",
       "   [-2.4742930470401348, 53.788195437599],\n",
       "   [-2.474551977164708, 53.787392344525955],\n",
       "   [-2.4738183418108406, 53.78734135397082],\n",
       "   [-2.4739046518528767, 53.787086400263945],\n",
       "   [-2.473019973925659, 53.78703540933694],\n",
       "   [-2.4730631289463076, 53.78661473182231],\n",
       "   [-2.4703227851241536, 53.78611756204893],\n",
       "   [-2.4680139915098778, 53.78597733361164],\n",
       "   [-2.46624463565621, 53.78562038638361],\n",
       "   [-2.465597310343611, 53.786576488202655],\n",
       "   [-2.463914264531212, 53.78624504203955],\n",
       "   [-2.464108462125239, 53.7859645855485],\n",
       "   [-2.4635690243646025, 53.7857606160139],\n",
       "   [-2.4601597777191557, 53.786844192807536],\n",
       "   [-2.461799668510963, 53.78992904642146],\n",
       "   [-2.463029586604762, 53.78963586760955],\n",
       "   [-2.4635042918332317, 53.789878058949],\n",
       "   [-2.46430265971847, 53.79107624816254],\n",
       "   [-2.464108462125239, 53.79136941690746],\n",
       "   [-2.464367392249784, 53.792274403152305],\n",
       "   [-2.4647126324163935, 53.79217243384724],\n",
       "   [-2.4649499850310406, 53.79228714929772],\n",
       "   [-2.465381535239686, 53.792159687666526],\n",
       "   [-2.4656836203848513, 53.79252932533018],\n",
       "   [-2.4658562404681845, 53.792465594930974],\n",
       "   [-2.4655541553230194, 53.7921341952939],\n",
       "   [-2.4666330308434397, 53.79182828561264],\n",
       "   [-2.46982650238499, 53.79133117762203],\n",
       "   [-2.4697186148322032, 53.790923289742864],\n",
       "   [-2.4710995754986413, 53.79069385106797],\n",
       "   [-2.4714663931759446, 53.790579131259676],\n",
       "   [-2.4727394662904203, 53.79037518415953],\n",
       "   [-2.473235749029584, 53.789967286984535],\n",
       "   [-2.473365214092297, 53.78926620444841]]],\n",
       " 'type': 'Polygon'}"
      ]
     },
     "execution_count": 57,
     "metadata": {},
     "output_type": "execute_result"
    }
   ],
   "source": [
    "with open('golfclub.geojson', 'r') as f:\n",
    "    golf_club_geo = json.load(f)\n",
    "\n",
    "golf_club_geo['features'][0]['geometry']"
   ]
  },
  {
   "cell_type": "code",
   "execution_count": 62,
   "metadata": {},
   "outputs": [
    {
     "data": {
      "image/svg+xml": [
       "<svg xmlns=\"http://www.w3.org/2000/svg\" xmlns:xlink=\"http://www.w3.org/1999/xlink\" width=\"100.0\" height=\"100.0\" viewBox=\"-2.4753071900291674 53.785037793602456 0.015730005091166177 0.008074124508880232\" preserveAspectRatio=\"xMinYMin meet\"><g transform=\"matrix(1,0,0,-1,0,107.57814971171379)\"><path fill-rule=\"evenodd\" fill=\"#66cc99\" stroke=\"#555555\" stroke-width=\"0.00031460010182332354\" opacity=\"0.6\" d=\"M -2.473365214092297,53.78926620444841 L -2.474595132186124,53.78931719266453 L -2.474724597248013,53.78875631888093 L -2.4734515241343615,53.78866708826962 L -2.473602566706944,53.78811895320666 L -2.4742930470401348,53.788195437599 L -2.474551977164708,53.787392344525955 L -2.4738183418108406,53.78734135397082 L -2.4739046518528767,53.787086400263945 L -2.473019973925659,53.78703540933694 L -2.4730631289463076,53.78661473182231 L -2.4703227851241536,53.78611756204893 L -2.4680139915098778,53.78597733361164 L -2.46624463565621,53.78562038638361 L -2.465597310343611,53.786576488202655 L -2.463914264531212,53.78624504203955 L -2.464108462125239,53.7859645855485 L -2.4635690243646025,53.7857606160139 L -2.4601597777191557,53.786844192807536 L -2.461799668510963,53.78992904642146 L -2.463029586604762,53.78963586760955 L -2.4635042918332317,53.789878058949 L -2.46430265971847,53.79107624816254 L -2.464108462125239,53.79136941690746 L -2.464367392249784,53.792274403152305 L -2.4647126324163935,53.79217243384724 L -2.4649499850310406,53.79228714929772 L -2.465381535239686,53.792159687666526 L -2.4656836203848513,53.79252932533018 L -2.4658562404681845,53.792465594930974 L -2.4655541553230194,53.7921341952939 L -2.4666330308434397,53.79182828561264 L -2.46982650238499,53.79133117762203 L -2.4697186148322032,53.790923289742864 L -2.4710995754986413,53.79069385106797 L -2.4714663931759446,53.790579131259676 L -2.4727394662904203,53.79037518415953 L -2.473235749029584,53.789967286984535 L -2.473365214092297,53.78926620444841 z\" /></g></svg>"
      ],
      "text/plain": [
       "<POLYGON ((-2.473 53.789, -2.475 53.789, -2.475 53.789, -2.473 53.789, -2.47...>"
      ]
     },
     "execution_count": 62,
     "metadata": {},
     "output_type": "execute_result"
    }
   ],
   "source": [
    "golfclub = shape(golf_club_geo['features'][0]['geometry'])\n",
    "golfclub"
   ]
  },
  {
   "cell_type": "code",
   "execution_count": 63,
   "metadata": {},
   "outputs": [
    {
     "data": {
      "text/plain": [
       "6.121824017103463e-05"
      ]
     },
     "execution_count": 63,
     "metadata": {},
     "output_type": "execute_result"
    }
   ],
   "source": [
    "golfclub.area"
   ]
  },
  {
   "cell_type": "code",
   "execution_count": 67,
   "metadata": {},
   "outputs": [
    {
     "name": "stdout",
     "output_type": "stream",
     "text": [
      "Shape 1 area: 128.41 hectares\n"
     ]
    }
   ],
   "source": [
    "import fiona\n",
    "from shapely.geometry import shape\n",
    "from shapely.ops import transform\n",
    "from pyproj import Transformer\n",
    "\n",
    "def calculate_area_in_hectares(geojson_file):\n",
    "    areas_hectares = []\n",
    "    with fiona.open(geojson_file, 'r') as src:\n",
    "        # Define a transformer to convert from WGS84 to a projected coordinate system (e.g., UTM)\n",
    "        transformer = Transformer.from_crs(\"epsg:4326\", \"epsg:3857\", always_xy=True)\n",
    "        \n",
    "        for feature in src:\n",
    "            geom = shape(feature['geometry'])\n",
    "            if geom.is_valid:\n",
    "                # Reproject the geometry to the projected coordinate system\n",
    "                projected_geom = transform(transformer.transform, geom)\n",
    "                # Calculate the area in square meters\n",
    "                area_sqm = projected_geom.area\n",
    "                # Convert square meters to hectares (1 hectare = 10,000 square meters)\n",
    "                area_hectares = area_sqm / 10000\n",
    "                areas_hectares.append(area_hectares)\n",
    "    return areas_hectares\n",
    "\n",
    "# Example usage\n",
    "geojson_file = 'golfclub.geojson'\n",
    "areas = calculate_area_in_hectares(geojson_file)\n",
    "\n",
    "for i, area in enumerate(areas):\n",
    "    print(f\"Shape {i+1} area: {area:.2f} hectares\")\n"
   ]
  },
  {
   "cell_type": "code",
   "execution_count": 68,
   "metadata": {},
   "outputs": [
    {
     "data": {
      "text/html": [
       "<div>\n",
       "<style scoped>\n",
       "    .dataframe tbody tr th:only-of-type {\n",
       "        vertical-align: middle;\n",
       "    }\n",
       "\n",
       "    .dataframe tbody tr th {\n",
       "        vertical-align: top;\n",
       "    }\n",
       "\n",
       "    .dataframe thead th {\n",
       "        text-align: right;\n",
       "    }\n",
       "</style>\n",
       "<table border=\"1\" class=\"dataframe\">\n",
       "  <thead>\n",
       "    <tr style=\"text-align: right;\">\n",
       "      <th></th>\n",
       "      <th>geometry</th>\n",
       "    </tr>\n",
       "  </thead>\n",
       "  <tbody>\n",
       "    <tr>\n",
       "      <th>0</th>\n",
       "      <td>POLYGON ((-2.47337 53.78927, -2.47460 53.78932...</td>\n",
       "    </tr>\n",
       "  </tbody>\n",
       "</table>\n",
       "</div>"
      ],
      "text/plain": [
       "                                            geometry\n",
       "0  POLYGON ((-2.47337 53.78927, -2.47460 53.78932..."
      ]
     },
     "execution_count": 68,
     "metadata": {},
     "output_type": "execute_result"
    }
   ],
   "source": [
    "import geopandas as gpd\n",
    "\n",
    "golfclub = gpd.read_file('golfclub.geojson')\n",
    "\n",
    "golfclub"
   ]
  },
  {
   "cell_type": "code",
   "execution_count": 93,
   "metadata": {},
   "outputs": [
    {
     "data": {
      "text/plain": [
       "0    44.874944\n",
       "dtype: float64"
      ]
     },
     "execution_count": 93,
     "metadata": {},
     "output_type": "execute_result"
    }
   ],
   "source": [
    "golfclub = golfclub.to_crs(27700)\n",
    "golfclub.area / 10000"
   ]
  },
  {
   "cell_type": "code",
   "execution_count": 94,
   "metadata": {},
   "outputs": [
    {
     "data": {
      "text/plain": [
       "<Projected CRS: EPSG:27700>\n",
       "Name: OSGB36 / British National Grid\n",
       "Axis Info [cartesian]:\n",
       "- E[east]: Easting (metre)\n",
       "- N[north]: Northing (metre)\n",
       "Area of Use:\n",
       "- name: United Kingdom (UK) - offshore to boundary of UKCS within 49°45'N to 61°N and 9°W to 2°E; onshore Great Britain (England, Wales and Scotland). Isle of Man onshore.\n",
       "- bounds: (-9.01, 49.75, 2.01, 61.01)\n",
       "Coordinate Operation:\n",
       "- name: British National Grid\n",
       "- method: Transverse Mercator\n",
       "Datum: Ordnance Survey of Great Britain 1936\n",
       "- Ellipsoid: Airy 1830\n",
       "- Prime Meridian: Greenwich"
      ]
     },
     "execution_count": 94,
     "metadata": {},
     "output_type": "execute_result"
    }
   ],
   "source": [
    "golfclub.crs"
   ]
  },
  {
   "cell_type": "code",
   "execution_count": null,
   "metadata": {},
   "outputs": [],
   "source": []
  },
  {
   "cell_type": "code",
   "execution_count": 74,
   "metadata": {},
   "outputs": [
    {
     "data": {
      "text/plain": [
       "0           74.731921\n",
       "1           74.732686\n",
       "2           74.731283\n",
       "3          672.580288\n",
       "4           74.729964\n",
       "              ...    \n",
       "2088409     73.875662\n",
       "2088410     73.874622\n",
       "2088411     73.875034\n",
       "2088412    147.751118\n",
       "2088413     73.875106\n",
       "Length: 2088414, dtype: float64"
      ]
     },
     "execution_count": 74,
     "metadata": {},
     "output_type": "execute_result"
    }
   ],
   "source": [
    "loughneagh_geo = gpd.read_file('Lough_Neagh_Network_Contribution.geojson')\n",
    "loughneagh_geo = loughneagh_geo.to_crs(3857)\n",
    "loughneagh_geo.area"
   ]
  },
  {
   "cell_type": "code",
   "execution_count": 75,
   "metadata": {},
   "outputs": [
    {
     "data": {
      "text/plain": [
       "0          0.000075\n",
       "1          0.000075\n",
       "2          0.000075\n",
       "3          0.000673\n",
       "4          0.000075\n",
       "             ...   \n",
       "2088409    0.000074\n",
       "2088410    0.000074\n",
       "2088411    0.000074\n",
       "2088412    0.000148\n",
       "2088413    0.000074\n",
       "Length: 2088414, dtype: float64"
      ]
     },
     "execution_count": 75,
     "metadata": {},
     "output_type": "execute_result"
    }
   ],
   "source": [
    "loughneagh_geo.area / 1_000_000"
   ]
  },
  {
   "cell_type": "code",
   "execution_count": 92,
   "metadata": {},
   "outputs": [
    {
     "name": "stdout",
     "output_type": "stream",
     "text": [
      "0    448010.689124\n",
      "dtype: float64\n",
      "0    44.801069\n",
      "dtype: float64\n"
     ]
    }
   ],
   "source": [
    "col_geo = gpd.read_file('hollingworth_lake.geojson')\n",
    "col_geo = col_geo.to_crs(\"+proj=cea +lat_0=53.631431 +lon_0=-2.097599 +units=m\") #latlong for centre of lake\n",
    "print(col_geo.area)\n",
    "print(col_geo.area / 10_000)"
   ]
  },
  {
   "cell_type": "code",
   "execution_count": 91,
   "metadata": {},
   "outputs": [
    {
     "data": {
      "text/plain": [
       "0    44.801069\n",
       "dtype: float64"
      ]
     },
     "execution_count": 91,
     "metadata": {},
     "output_type": "execute_result"
    }
   ],
   "source": [
    "col_geo.area / 10_000"
   ]
  },
  {
   "cell_type": "code",
   "execution_count": 95,
   "metadata": {},
   "outputs": [
    {
     "name": "stdout",
     "output_type": "stream",
     "text": [
      "0    447680.522512\n",
      "dtype: float64\n",
      "0    44.768052\n",
      "dtype: float64\n"
     ]
    }
   ],
   "source": [
    "col_geo = gpd.read_file('hollingworth_lake.geojson')\n",
    "col_geo = col_geo.to_crs(27700) #latlong for centre of lake\n",
    "print(col_geo.area)\n",
    "print(col_geo.area / 10_000)"
   ]
  },
  {
   "cell_type": "code",
   "execution_count": null,
   "metadata": {},
   "outputs": [],
   "source": []
  }
 ],
 "metadata": {
  "kernelspec": {
   "display_name": ".venv",
   "language": "python",
   "name": "python3"
  },
  "language_info": {
   "codemirror_mode": {
    "name": "ipython",
    "version": 3
   },
   "file_extension": ".py",
   "mimetype": "text/x-python",
   "name": "python",
   "nbconvert_exporter": "python",
   "pygments_lexer": "ipython3",
   "version": "3.11.5"
  }
 },
 "nbformat": 4,
 "nbformat_minor": 2
}
