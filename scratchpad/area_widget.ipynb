{
 "cells": [
  {
   "cell_type": "markdown",
   "metadata": {},
   "source": [
    "# Available Area Widget\n",
    "\n",
    "A widget to calculate available area for a given land parcel.\n",
    "\n",
    "How to use:\n",
    "\n",
    "- provide the coordinates of each vertex of the land parcel's boundaries. In this version we reference them to a cartesian plane in metres. Later we'll add support for latlong (Earth)\n",
    "- provide the coordinates of each vertex of a hedge. Ideally the hedge should follow one or more of the land parcel's edges, so the hedge coordinates should be a contiguous subset of the land parcel's. We're not checking this though and undefined behaviour may occur if they aren't\n",
    "- marvel at the resulting available area figure"
   ]
  },
  {
   "cell_type": "code",
   "execution_count": 3,
   "metadata": {},
   "outputs": [],
   "source": [
    "from pydantic import BaseModel"
   ]
  },
  {
   "cell_type": "code",
   "execution_count": null,
   "metadata": {},
   "outputs": [],
   "source": [
    "class PointCartesian(BaseModel):\n",
    "    \"A class representing a 2D point on an unreferenced Cartesian plane.\"\n",
    "\n",
    "    x: float\n",
    "    y: float\n",
    "\n",
    "\n",
    "class PolygonCartesian(BaseModel):\n",
    "    \"A class representing a polygon defined by a series of vertices in an unreferenced Cartesian plane.\"\n",
    "\n",
    "    v: list[PointCartesian]\n",
    "\n",
    "    def isClosed(self)-> bool:\n",
    "        \"Determines whether the polygon is closed (the last point equals the first).\"\n",
    "        return self.v[0]==self.v[-1]\n",
    "\n"
   ]
  }
 ],
 "metadata": {
  "kernelspec": {
   "display_name": ".venv",
   "language": "python",
   "name": "python3"
  },
  "language_info": {
   "codemirror_mode": {
    "name": "ipython",
    "version": 3
   },
   "file_extension": ".py",
   "mimetype": "text/x-python",
   "name": "python",
   "nbconvert_exporter": "python",
   "pygments_lexer": "ipython3",
   "version": "3.12.2"
  }
 },
 "nbformat": 4,
 "nbformat_minor": 2
}
