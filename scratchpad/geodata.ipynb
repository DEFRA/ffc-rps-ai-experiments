{
 "cells": [
  {
   "cell_type": "code",
   "execution_count": 5,
   "metadata": {},
   "outputs": [],
   "source": [
    "import geopandas"
   ]
  },
  {
   "cell_type": "code",
   "execution_count": 9,
   "metadata": {},
   "outputs": [
    {
     "name": "stderr",
     "output_type": "stream",
     "text": [
      "/Users/joe/Documents/git/defra/ffc-rps-scratchpad/src/python/.venv/lib/python3.12/site-packages/geopandas/io/file.py:391: UserWarning: Could not infer format, so each element will be parsed individually, falling back to `dateutil`. To ensure parsing is consistent and as-expected, please specify a format.\n",
      "  as_dt = pd.to_datetime(df[k])\n",
      "/Users/joe/Documents/git/defra/ffc-rps-scratchpad/src/python/.venv/lib/python3.12/site-packages/geopandas/io/file.py:398: UserWarning: Could not infer format, so each element will be parsed individually, falling back to `dateutil`. To ensure parsing is consistent and as-expected, please specify a format.\n",
      "  as_dt = pd.to_datetime(df[k], utc=True)\n"
     ]
    }
   ],
   "source": [
    "# Reading a GeoPackage file\n",
    "input_file = \"/Users/joe/Documents/git/defra/docs/EqualExperts_LMS_LIPS_DataExtract/LMS_reference_parcels.gpkg\"\n",
    "data = geopandas.read_file(input_file)"
   ]
  },
  {
   "cell_type": "code",
   "execution_count": 10,
   "metadata": {},
   "outputs": [
    {
     "name": "stdout",
     "output_type": "stream",
     "text": [
      "  SHEET_ID PARCEL_ID          VALID_FROM             VALID_TO  GEOM_AREA_SQM  \\\n",
      "0   SK1715      5351 2024-01-01 00:00:02  9999-12-31T00:00:00       52721.14   \n",
      "1   SK0430      3033 2024-01-01 00:00:02  9999-12-31T00:00:00        3078.78   \n",
      "2   SO8696      6668 2016-05-06 00:00:02  9999-12-31T00:00:00        7978.10   \n",
      "3   SK2205      8473 2024-01-01 00:00:02  9999-12-31T00:00:00        1515.43   \n",
      "4   SK2106      7562 2024-01-01 00:00:02  9999-12-31T00:00:00       23302.09   \n",
      "\n",
      "  VERIFIED_ON  VERIFICATION_TYPE          CREATED_ON    CREATED_BY VALIDATED  \\\n",
      "0  2023-07-28             1000.0 2024-05-09 13:46:44  B.MartinezQC         Y   \n",
      "1  2023-03-23             1000.0 2024-05-09 14:39:24    S.Chippada         Y   \n",
      "2  2022-06-02             1000.0 2017-09-29 11:55:56      B.OToole         Y   \n",
      "3  2022-04-30             2000.0 2024-05-30 12:27:18  G.ZirulnikQC         Y   \n",
      "4  2022-04-30             2000.0 2024-05-30 12:27:18  G.ZirulnikQC         Y   \n",
      "\n",
      "      CENTROID_X     CENTROID_Y   LAST_REFRESH_DATE  \\\n",
      "0  417491.480344  315497.317868 2024-05-09 22:30:45   \n",
      "1  404297.277862  330323.381502 2024-05-09 22:30:45   \n",
      "2  386666.698279  296680.645990 2024-04-15 22:30:36   \n",
      "3  422839.553261  305730.560406 2024-05-30 22:30:51   \n",
      "4  421750.239375  306633.230718 2024-05-30 22:30:51   \n",
      "\n",
      "                                        _geometrywkt  \\\n",
      "0  POLYGON ((417544.33 315629.83,417546.77 315625...   \n",
      "1  POLYGON ((404275.263 330324.376,404275.588 330...   \n",
      "2  POLYGON ((386732.02 296694.9297,386728.1 29670...   \n",
      "3  POLYGON ((422860.2218 305748.02,422860.22 3057...   \n",
      "4  POLYGON ((421657.1359 306554.018,421664.1931 3...   \n",
      "\n",
      "                                            geometry  \n",
      "0  POLYGON ((417544.330 315629.830, 417546.770 31...  \n",
      "1  POLYGON ((404275.263 330324.376, 404275.588 33...  \n",
      "2  POLYGON ((386732.020 296694.930, 386728.100 29...  \n",
      "3  POLYGON ((422860.222 305748.020, 422860.220 30...  \n",
      "4  POLYGON ((421657.136 306554.018, 421664.193 30...  \n"
     ]
    }
   ],
   "source": [
    "print(data.head())"
   ]
  },
  {
   "cell_type": "code",
   "execution_count": 11,
   "metadata": {},
   "outputs": [
    {
     "data": {
      "text/plain": [
       "Index(['SHEET_ID', 'PARCEL_ID', 'VALID_FROM', 'VALID_TO', 'GEOM_AREA_SQM',\n",
       "       'VERIFIED_ON', 'VERIFICATION_TYPE', 'CREATED_ON', 'CREATED_BY',\n",
       "       'VALIDATED', 'CENTROID_X', 'CENTROID_Y', 'LAST_REFRESH_DATE',\n",
       "       '_geometrywkt', 'geometry'],\n",
       "      dtype='object')"
      ]
     },
     "execution_count": 11,
     "metadata": {},
     "output_type": "execute_result"
    }
   ],
   "source": [
    "data.columns"
   ]
  },
  {
   "cell_type": "code",
   "execution_count": 12,
   "metadata": {},
   "outputs": [],
   "source": [
    "cols = ['SHEET_ID', 'PARCEL_ID', 'VALID_FROM', 'VALID_TO', 'GEOM_AREA_SQM',\n",
    "       'VERIFIED_ON', 'VERIFICATION_TYPE', 'CREATED_ON', 'CREATED_BY',\n",
    "       'VALIDATED', 'LAST_REFRESH_DATE']"
   ]
  },
  {
   "cell_type": "code",
   "execution_count": 17,
   "metadata": {},
   "outputs": [],
   "source": [
    "data_no_geo = data[cols][0:10]"
   ]
  },
  {
   "cell_type": "code",
   "execution_count": 16,
   "metadata": {},
   "outputs": [],
   "source": [
    "output_file = \"/Users/joe/Documents/git/defra/docs/EqualExperts_LMS_LIPS_DataExtract/LMS_reference_parcels.csv\"\n",
    "data_no_geo.to_csv(output_file)"
   ]
  },
  {
   "cell_type": "code",
   "execution_count": 19,
   "metadata": {},
   "outputs": [],
   "source": [
    "def turn_geopackage_into_small_csv(input_file, output_file):\n",
    "    \"\"\"Reads a gpkg file, removes three geodata fields and trims to ten rows, then writes back out as a csv\"\"\"\n",
    "    data = geopandas.read_file(input_file)\n",
    "#    columns = data.columns\n",
    " #   new_columns = list(set(cols) - set(['CENTROID_X', 'CENTROID_Y', '_geometrywkt', 'geometry']))\n",
    "    data_no_geo = data[0:10]\n",
    "    data_no_geo.to_csv(output_file)"
   ]
  },
  {
   "cell_type": "code",
   "execution_count": 20,
   "metadata": {},
   "outputs": [
    {
     "data": {
      "text/plain": [
       "[PosixPath('/Users/joe/Documents/git/defra/docs/EqualExperts_LMS_LIPS_DataExtract/LMS_hedge_control.csv'),\n",
       " PosixPath('/Users/joe/Documents/git/defra/docs/EqualExperts_LMS_LIPS_DataExtract/LMS_reference_land_cover.csv'),\n",
       " PosixPath('/Users/joe/Documents/git/defra/docs/EqualExperts_LMS_LIPS_DataExtract/LMS_reference_parcels.csv')]"
      ]
     },
     "execution_count": 20,
     "metadata": {},
     "output_type": "execute_result"
    }
   ],
   "source": [
    "from pathlib import Path\n",
    "\n",
    "infiles = [Path(x) for x in\n",
    "           [\n",
    "               '/Users/joe/Documents/git/defra/docs/EqualExperts_LMS_LIPS_DataExtract/LMS_hedge_control.gpkg',\n",
    "               '/Users/joe/Documents/git/defra/docs/EqualExperts_LMS_LIPS_DataExtract/LMS_reference_land_cover.gpkg',\n",
    "               '/Users/joe/Documents/git/defra/docs/EqualExperts_LMS_LIPS_DataExtract/LMS_reference_parcels.gpkg'\n",
    "               ]\n",
    "]\n",
    "\n",
    "outfiles = [filename.with_suffix('.csv') for filename in infiles]\n",
    "\n",
    "outfiles"
   ]
  },
  {
   "cell_type": "code",
   "execution_count": 21,
   "metadata": {},
   "outputs": [
    {
     "name": "stderr",
     "output_type": "stream",
     "text": [
      "/Users/joe/Documents/git/defra/ffc-rps-scratchpad/src/python/.venv/lib/python3.12/site-packages/geopandas/io/file.py:391: UserWarning: Could not infer format, so each element will be parsed individually, falling back to `dateutil`. To ensure parsing is consistent and as-expected, please specify a format.\n",
      "  as_dt = pd.to_datetime(df[k])\n",
      "/Users/joe/Documents/git/defra/ffc-rps-scratchpad/src/python/.venv/lib/python3.12/site-packages/geopandas/io/file.py:398: UserWarning: Could not infer format, so each element will be parsed individually, falling back to `dateutil`. To ensure parsing is consistent and as-expected, please specify a format.\n",
      "  as_dt = pd.to_datetime(df[k], utc=True)\n",
      "/Users/joe/Documents/git/defra/ffc-rps-scratchpad/src/python/.venv/lib/python3.12/site-packages/geopandas/io/file.py:391: UserWarning: Could not infer format, so each element will be parsed individually, falling back to `dateutil`. To ensure parsing is consistent and as-expected, please specify a format.\n",
      "  as_dt = pd.to_datetime(df[k])\n",
      "/Users/joe/Documents/git/defra/ffc-rps-scratchpad/src/python/.venv/lib/python3.12/site-packages/geopandas/io/file.py:398: UserWarning: Could not infer format, so each element will be parsed individually, falling back to `dateutil`. To ensure parsing is consistent and as-expected, please specify a format.\n",
      "  as_dt = pd.to_datetime(df[k], utc=True)\n"
     ]
    }
   ],
   "source": [
    "for infile, outfile in zip(infiles, outfiles):\n",
    "    turn_geopackage_into_small_csv(infile, outfile)\n"
   ]
  },
  {
   "cell_type": "code",
   "execution_count": null,
   "metadata": {},
   "outputs": [],
   "source": []
  },
  {
   "cell_type": "code",
   "execution_count": null,
   "metadata": {},
   "outputs": [],
   "source": []
  }
 ],
 "metadata": {
  "kernelspec": {
   "display_name": ".venv",
   "language": "python",
   "name": "python3"
  },
  "language_info": {
   "codemirror_mode": {
    "name": "ipython",
    "version": 3
   },
   "file_extension": ".py",
   "mimetype": "text/x-python",
   "name": "python",
   "nbconvert_exporter": "python",
   "pygments_lexer": "ipython3",
   "version": "3.12.2"
  }
 },
 "nbformat": 4,
 "nbformat_minor": 2
}
